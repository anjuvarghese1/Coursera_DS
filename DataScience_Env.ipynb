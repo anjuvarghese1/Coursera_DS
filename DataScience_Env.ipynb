{
 "cells": [
  {
   "cell_type": "markdown",
   "metadata": {},
   "source": [
    "<h1>Data Science Environment</h1>"
   ]
  },
  {
   "cell_type": "markdown",
   "metadata": {},
   "source": [
    "This notebook details the basic aspects of the Data Science. It mentions the tools and tecniques employed in a Data Science environment."
   ]
  },
  {
   "cell_type": "markdown",
   "metadata": {},
   "source": [
    "<h5>Some of the popular languages that Data Scientists use are:</h5>\n",
    "1. Python <br>\n",
    "2. R <br>\n",
    "3. SQL <br>"
   ]
  },
  {
   "cell_type": "markdown",
   "metadata": {},
   "source": [
    "<h5>Some of the popular Data Science libraries are:</h5>\n",
    "1. Pandas <br>\n",
    "2. Numpy <br>\n",
    "3. SciPy <br>\n",
    "4. Matplotlib <br>"
   ]
  },
  {
   "cell_type": "markdown",
   "metadata": {},
   "source": [
    "<h5>Some of the popular Data Science tools are:</h5>\n",
    "\n",
    "Data Management   | Data Integration and Transformation  | Data Visualization| Model Deployment  |\n",
    "------------------|--------------------------------------|-------------------|-------------------|\n",
    "MySQL             | Apache AirFlow                       | Pixie Dust        |Seldon             |\n",
    "PostgreSQL        | Kubeflow                             | Apache Superset   |Kubernetes         |\n",
    "MongoDB           | Apache Kafka                         | Kibana            |Apache PredictionIO|\n",
    "Appache CouchDB   | Apache Nifi                          | Hue               |MLeap              |"
   ]
  },
  {
   "cell_type": "markdown",
   "metadata": {},
   "source": [
    "<h5>Arithmetic Expressions in Python:</h5>\n",
    "Arithmetic expressions include addition, subtraction, multiplication, division etc. <br>\n",
    "1. Addition: 4+3 <br>\n",
    "2. Subtraction: 4-3 <br>\n",
    "3. Multiplication: 4*3 <br>\n",
    "4. Division: 4/3 <br>"
   ]
  },
  {
   "cell_type": "code",
   "execution_count": 11,
   "metadata": {},
   "outputs": [
    {
     "data": {
      "text/plain": [
       "6"
      ]
     },
     "execution_count": 11,
     "metadata": {},
     "output_type": "execute_result"
    }
   ],
   "source": [
    "#Addition \n",
    "2+3\n",
    "#Multiplication\n",
    "2*3"
   ]
  },
  {
   "cell_type": "code",
   "execution_count": 14,
   "metadata": {},
   "outputs": [
    {
     "data": {
      "text/plain": [
       "3.8833333333333333"
      ]
     },
     "execution_count": 14,
     "metadata": {},
     "output_type": "execute_result"
    }
   ],
   "source": [
    "#Arithmetic solution to convert Minutes to Hours\n",
    "mins = 233\n",
    "hrs = mins/60\n",
    "hrs"
   ]
  },
  {
   "cell_type": "markdown",
   "metadata": {},
   "source": [
    "<h5>Objectives:</h5>\n",
    "The objectives of this notebook are: <br>\n",
    "1. Introduce the languages, libraries, and tools of Data science. <br>\n",
    "2. Introduce arithmetic expressions. <br>\n",
    "3. Demonstrate usage of various arithmetic expressions. <br>"
   ]
  },
  {
   "cell_type": "markdown",
   "metadata": {},
   "source": [
    "<h5>Author: Anju Varghese</h5>"
   ]
  }
 ],
 "metadata": {
  "kernelspec": {
   "display_name": "Python 3 (ipykernel)",
   "language": "python",
   "name": "python3"
  },
  "language_info": {
   "codemirror_mode": {
    "name": "ipython",
    "version": 3
   },
   "file_extension": ".py",
   "mimetype": "text/x-python",
   "name": "python",
   "nbconvert_exporter": "python",
   "pygments_lexer": "ipython3",
   "version": "3.11.9"
  }
 },
 "nbformat": 4,
 "nbformat_minor": 4
}
